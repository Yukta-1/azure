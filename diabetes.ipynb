{
 "cells": [
  {
   "cell_type": "code",
   "execution_count": null,
   "id": "b9053cba",
   "metadata": {},
   "outputs": [],
   "source": [
    "import os\n",
    "import azureml.core\n",
    "from azureml.core import Workspace,Experiment,Datastore\n",
    "from azureml.widgets import RunDetails\n",
    "from azureml.core import Dataset\n",
    "from azureml.pipeline.core import Pipeline,pipelineData\n",
    "from azureml.pipeline.core import PipelineRun,StepRun,PortDataReference\n",
    "from azureml.pipeline.steps import PythonScriptStep\n",
    "from azureml.core.compute import ComputeTarget,AmlCompute\n",
    "from azureml.core.compute_target import ComputeTargetException\n",
    "from azureml.core.reconfig import RunConfiguration\n",
    "from azureml.core.conda_dependencies import CondaDependencies\n",
    "from azureml.core.model import Model\n",
    "import warnings\n",
    "warnings.filterwarnings('ignore')\n",
    "print(\"SDK version: \",axureml.core.VERSION)"
   ]
  },
  {
   "cell_type": "code",
   "execution_count": null,
   "id": "35a3aa2a",
   "metadata": {},
   "outputs": [],
   "source": [
    "wx=Workspace.from_cofig(path='./')\n",
    "def_blob_storage=ws.get_default_datastore()\n",
    "def_blob_store.upload_files(['./data/pima-indians-diabetes.csv'],target_path=\"data\",overwrite=True)"
   ]
  },
  {
   "cell_type": "code",
   "execution_count": null,
   "id": "db738fef",
   "metadata": {},
   "outputs": [],
   "source": [
    "diabetes_data=Dataset.Tabular.from_delimited_files(def_blob_store.path('./data/pima-indian-diabetes.csv'))\n",
    "diabetes_data=diabetes_data.register(ws,'diabetes_data')"
   ]
  },
  {
   "cell_type": "code",
   "execution_count": null,
   "id": "272a65f6",
   "metadata": {},
   "outputs": [],
   "source": [
    "aml_compute_target='demo-cluster'\n",
    "try:\n",
    "    aml_compute=AmlCompute(ws,aml_compute_target)\n",
    "    print(\"found existing compute target\")\n",
    "except:\n",
    "    print(\"creting new compute target\")\n",
    "    provisioning_config=AmlCompute.provisioning_configuration(cm_size='STANDARD_D2_V2',\n",
    "                                                     min_nodes=1,\n",
    "                                                     max_nodes=4)\n",
    "    aml_compute=ComputeTarget.create(ws,aml_compute_target,provisioning_config)\n",
    "    aml_compute.wait_for_completion(show_output=True, min_node_count=None, timeout_in_minutes=20)\n",
    "print(\"Azure Machine Learning Compute Attached\")"
   ]
  },
  {
   "cell_type": "code",
   "execution_count": null,
   "id": "cb2faa1c",
   "metadata": {},
   "outputs": [],
   "source": [
    "aml_run_config=RunConfiguration()\n",
    "aml_run_config.target=aml_compute\n",
    "aml_run_config.environment.docket.enabled=True\n",
    "aml_run_config.environment.docket.base_image='mcr.microsoft.com/azureml/base:latest'\n",
    "aml_run_config.environment.python.user_managed_dependencies=False\n",
    "aml_run_config.environment.pytohn.conda_dependencies=CondaDependencies.create(\n",
    "conda_packages=['pandas','scikit-learn','numpy'],\n",
    "pip_packages=['joblib','azureml-sdk','fusepy'],\n",
    "pin_sdk_version=False)\n"
   ]
  },
  {
   "cell_type": "code",
   "execution_count": null,
   "id": "1464ddb2",
   "metadata": {},
   "outputs": [],
   "source": [
    "raw_data=diabetes_data.as_named_input['raw_data']\n",
    "train_data=PineLineData['train_data',datastore=def_blob_store].as_dataset()\n",
    "test_data=PineLineData['test_data',datastore=def_blob_store].as_dataset()\n",
    "scaler_file=PineLineData['scaler_file',datastore=def_blob_store].as_dataset()\n",
    "model_file=PineLineData['model_file',datastore=def_blob_store].as_dataset()"
   ]
  },
  {
   "cell_type": "code",
   "execution_count": null,
   "id": "7b5b505a",
   "metadata": {},
   "outputs": [],
   "source": [
    "source_directory='./prep'\n",
    "step1=PythonScriptStep(name='prep_step',\n",
    "                      script_name='./prep.py'\n",
    "                      arguments=['--train',train_data,'--test',test_data,'--scaler',scaler_file],\n",
    "                      inputs=[raw_data],\n",
    "                      outputs=[train_data,test_data,scaler_file],\n",
    "                      compute_target=aml_compute,\n",
    "                      runconfig=aml_run_config,\n",
    "                      source_directory=source_directory,\n",
    "                      allow_reuse=True)"
   ]
  },
  {
   "cell_type": "code",
   "execution_count": null,
   "id": "ccdb842c",
   "metadata": {},
   "outputs": [],
   "source": [
    "source_directory='./train'\n",
    "step2=PythonScriptStep(name='train_step',\n",
    "                      script_name='./train.py'\n",
    "                      arguments=['--train',train_data,'--test',test_data,'--model',model_file],\n",
    "                      inputs=[train_data,test_data],\n",
    "                      outputs=[model_file],\n",
    "                      compute_target=aml_compute,\n",
    "                      runconfig=aml_run_config,\n",
    "                      source_directory=source_directory,\n",
    "                      allow_reuse=True)"
   ]
  },
  {
   "cell_type": "code",
   "execution_count": null,
   "id": "3b335699",
   "metadata": {},
   "outputs": [],
   "source": [
    "steps=[step1,step2]"
   ]
  },
  {
   "cell_type": "code",
   "execution_count": null,
   "id": "0192fa85",
   "metadata": {},
   "outputs": [],
   "source": [
    "pipeline1=Pipeline(workspace=ws,steps=steps)"
   ]
  },
  {
   "cell_type": "code",
   "execution_count": null,
   "id": "d0bb027d",
   "metadata": {},
   "outputs": [],
   "source": [
    "pipeline1.validate()"
   ]
  },
  {
   "cell_type": "code",
   "execution_count": null,
   "id": "6a7f42bd",
   "metadata": {},
   "outputs": [],
   "source": [
    "pipeline_run1=Experiment(ws,'diabetes_run').submit(pipeline1,regenerate_outputs=False)"
   ]
  },
  {
   "cell_type": "code",
   "execution_count": null,
   "id": "b3fb0134",
   "metadata": {},
   "outputs": [],
   "source": [
    "prep_step=pipeline_run1.find_step_run('prep_step')[0]\n",
    "step_run_output=prep_step.get_output('scaler_file')\n",
    "\n",
    "port_data_reference=step_run_output().get_port_data_reference()\n",
    "port_data_reference.download(local_path='.')\n",
    "scaler_file=port_data_reference.path_on_datastore"
   ]
  },
  {
   "cell_type": "code",
   "execution_count": null,
   "id": "b9b6a844",
   "metadata": {},
   "outputs": [],
   "source": [
    "model=model_file+'model.joblib'\n",
    "scaler=scaler_file+'/scaler.joblib'\n",
    "os.makedirs('model',exist_ok=True)\n",
    "os.popen('cp '+model+' model')\n",
    "os.popen('cp '+scaler+' model')"
   ]
  }
 ],
 "metadata": {
  "kernelspec": {
   "display_name": "Python 3 (ipykernel)",
   "language": "python",
   "name": "python3"
  },
  "language_info": {
   "codemirror_mode": {
    "name": "ipython",
    "version": 3
   },
   "file_extension": ".py",
   "mimetype": "text/x-python",
   "name": "python",
   "nbconvert_exporter": "python",
   "pygments_lexer": "ipython3",
   "version": "3.9.12"
  }
 },
 "nbformat": 4,
 "nbformat_minor": 5
}
